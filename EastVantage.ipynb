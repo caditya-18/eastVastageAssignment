{
 "cells": [
  {
   "cell_type": "markdown",
   "id": "1def0fcf",
   "metadata": {},
   "source": [
    "### connecting to server "
   ]
  },
  {
   "cell_type": "code",
   "execution_count": 2,
   "id": "a906d2ea",
   "metadata": {},
   "outputs": [],
   "source": [
    "#importing lib\n",
    "import sqlite3\n",
    "conn=sqlite3.connect(\"dbName.db\")"
   ]
  },
  {
   "cell_type": "markdown",
   "id": "b7011b61",
   "metadata": {},
   "source": [
    "#### Creating Sales Table"
   ]
  },
  {
   "cell_type": "code",
   "execution_count": null,
   "id": "45c8ec1e",
   "metadata": {},
   "outputs": [],
   "source": [
    "#creating curcose object to execute sql quaries \n",
    "cursor=conn.cursor()\n",
    "\n",
    "#creating table \n",
    "cursor.execute(\"CREATE TABLE IF NOT EXISTS sales (sales_id INTEGER PRIMARY KEY, customer_id TEXT)\")"
   ]
  },
  {
   "cell_type": "code",
   "execution_count": 10,
   "id": "fdc5947c",
   "metadata": {},
   "outputs": [],
   "source": [
    "#interting values in the sales table \n",
    "# query=\"\"\"INSERT INTO sales(sales_id,customer_id) VALUES(101,\"C1001\")\"\"\"\n",
    "#creating loop to insert all values in one go\n",
    "\n",
    "sales_data = [\n",
    "    (102, \"C1002\"),\n",
    "    (103, \"C1003\"),\n",
    "    (104, \"C1001\"),\n",
    "    (105, \"C1005\"),\n",
    "    (106, \"C1006\"),\n",
    "    (107, \"C1007\"),\n",
    "    (108, \"C1008\"),\n",
    "    (150, \"C1050\")\n",
    "]\n",
    "\n",
    "for data in sales_data:\n",
    "    sales_id, customer_id = data\n",
    "    query = f\"INSERT INTO sales(sales_id, customer_id) VALUES({sales_id}, '{customer_id}')\"\n",
    "    cursor.execute(query)\n",
    "\n",
    "# cursor.execute(query)"
   ]
  },
  {
   "cell_type": "code",
   "execution_count": 11,
   "id": "fd4f1096",
   "metadata": {},
   "outputs": [
    {
     "name": "stdout",
     "output_type": "stream",
     "text": [
      "[(101, 'C1001'), (102, 'C1002'), (103, 'C1003'), (104, 'C1001'), (105, 'C1005'), (106, 'C1006'), (107, 'C1007'), (108, 'C1008'), (150, 'C1050')]\n"
     ]
    }
   ],
   "source": [
    "query=\"Select * from sales\"\n",
    "cursor.execute(query)\n",
    "rows=cursor.fetchall()\n",
    "print(rows)"
   ]
  },
  {
   "cell_type": "markdown",
   "id": "6a5d2c4c",
   "metadata": {},
   "source": [
    "#### Creating customer table"
   ]
  },
  {
   "cell_type": "code",
   "execution_count": 12,
   "id": "da247fc4",
   "metadata": {},
   "outputs": [
    {
     "data": {
      "text/plain": [
       "<sqlite3.Cursor at 0x1b7f5b10dc0>"
      ]
     },
     "execution_count": 12,
     "metadata": {},
     "output_type": "execute_result"
    }
   ],
   "source": [
    "#creating table \n",
    "cursor.execute(\"CREATE TABLE IF NOT EXISTS customer (customer_id TEXT,age integer)\")"
   ]
  },
  {
   "cell_type": "code",
   "execution_count": 15,
   "id": "57725883",
   "metadata": {},
   "outputs": [],
   "source": [
    "#inserting values\n",
    "customer_data = [\n",
    "(\"C1001\",30),\n",
    "(\"C1002\",25),\n",
    "(\"C1003\",40),\n",
    "(\"C1004\",22),\n",
    "(\"C1005\",35),\n",
    "(\"C1006\",28),\n",
    "(\"C1007\",19),\n",
    "(\"C1008\",40),\n",
    "(\"C1009\",23),\n",
    "(\"C1010\",31),\n",
    "(\"C1045\",37)]\n",
    "\n",
    "for data in sales_data:\n",
    "    customer_id, age = data\n",
    "    query = f\"INSERT INTO customer(customer_id, age) VALUES({customer_id}, '{age}')\"\n",
    "    cursor.execute(query)\n"
   ]
  },
  {
   "cell_type": "code",
   "execution_count": 24,
   "id": "1ac2162e",
   "metadata": {},
   "outputs": [
    {
     "name": "stdout",
     "output_type": "stream",
     "text": [
      "[('102', 'C1002'), ('103', 'C1003'), ('104', 'C1001'), ('105', 'C1005'), ('106', 'C1006'), ('107', 'C1007'), ('108', 'C1008'), ('150', 'C1050')]\n"
     ]
    }
   ],
   "source": [
    "query=\"Select * from customer\"\n",
    "cursor.execute(query)\n",
    "rows=cursor.fetchall()\n",
    "print(rows)"
   ]
  },
  {
   "cell_type": "markdown",
   "id": "dc9bd5f7",
   "metadata": {},
   "source": [
    "#### creating orders table "
   ]
  },
  {
   "cell_type": "code",
   "execution_count": 17,
   "id": "d3ee6925",
   "metadata": {},
   "outputs": [
    {
     "data": {
      "text/plain": [
       "<sqlite3.Cursor at 0x1b7f5b10dc0>"
      ]
     },
     "execution_count": 17,
     "metadata": {},
     "output_type": "execute_result"
    }
   ],
   "source": [
    "#creating table \n",
    "cursor.execute(\"CREATE TABLE IF NOT EXISTS orders (order_id TEXT,sales_id integer,item_id Text,quantity integer)\")"
   ]
  },
  {
   "cell_type": "code",
   "execution_count": 21,
   "id": "84d3a3b3",
   "metadata": {},
   "outputs": [],
   "source": [
    "#inserting values\n",
    "order_data = [\n",
    "(\"O2001\",101,\"I3001\",3),\n",
    "(\"O2002\",102,\"I3002\",2),\n",
    "(\"O2003\",103,\"I3003\",1),\n",
    "(\"O2004\",104,\"I3004\",4),\n",
    "(\"O2005\",105,\"I3005\",2),\n",
    "(\"O2050\",150,\"I3050\",3)\n",
    "]\n",
    "\n",
    "for data in order_data:\n",
    "    order_id, sales_id, item_id, quantity = data\n",
    "    query = f\"INSERT INTO orders(order_id, sales_id, item_id, quantity) VALUES ('{order_id}', {sales_id}, '{item_id}', {quantity})\"\n",
    "    cursor.execute(query)\n"
   ]
  },
  {
   "cell_type": "code",
   "execution_count": 23,
   "id": "c3acf53a",
   "metadata": {},
   "outputs": [
    {
     "name": "stdout",
     "output_type": "stream",
     "text": [
      "[('O2001', 101, 'I3001', 3), ('O2002', 102, 'I3002', 2), ('O2003', 103, 'I3003', 1), ('O2004', 104, 'I3004', 4), ('O2005', 105, 'I3005', 2), ('O2050', 150, 'I3050', 3)]\n"
     ]
    }
   ],
   "source": [
    "query=\"Select * from orders\"\n",
    "cursor.execute(query)\n",
    "rows=cursor.fetchall()\n",
    "print(rows)"
   ]
  },
  {
   "cell_type": "markdown",
   "id": "fecc5dbc",
   "metadata": {},
   "source": [
    "### creating items table "
   ]
  },
  {
   "cell_type": "code",
   "execution_count": 25,
   "id": "a0a26315",
   "metadata": {},
   "outputs": [
    {
     "data": {
      "text/plain": [
       "<sqlite3.Cursor at 0x1b7f5b10dc0>"
      ]
     },
     "execution_count": 25,
     "metadata": {},
     "output_type": "execute_result"
    }
   ],
   "source": [
    "#creating table \n",
    "cursor.execute(\"CREATE TABLE IF NOT EXISTS items (item_id TEXT,item_name Text)\")"
   ]
  },
  {
   "cell_type": "code",
   "execution_count": 28,
   "id": "d30b8caa",
   "metadata": {},
   "outputs": [],
   "source": [
    "#inserting values\n",
    "items_data = [\n",
    "(\"I3001\",\"Laptop\"),\n",
    "(\"I3002\",\"Smartphone\"),\n",
    "(\"I3003\",\"Headphones\"),\n",
    "(\"I3004\",\"Tablet\"),\n",
    "(\"I3005\",\"Fitness Tracker\"),\n",
    "(\"I3006\",\"Wireless Mouse\"),\n",
    "(\"I3007\",\"Coffee Maker\"),\n",
    "(\"I3008\",\"Yoga Mat\"),\n",
    "(\"I3009\",\"Sunglasses\"),\n",
    "(\"I3010\",\"Portable Charger\"),\n",
    "(\"I3045\",\"Bluetooth Speaker\")\n",
    "]\n",
    "\n",
    "for data in items_data:\n",
    "    item_id, item_name = data\n",
    "    query = f\"INSERT INTO items(item_id, item_name) VALUES ('{item_id}', '{item_name}')\"\n",
    "    cursor.execute(query)"
   ]
  },
  {
   "cell_type": "code",
   "execution_count": 30,
   "id": "1808e2bf",
   "metadata": {},
   "outputs": [
    {
     "name": "stdout",
     "output_type": "stream",
     "text": [
      "[('I3001', 'Laptop'), ('I3002', 'Smartphone'), ('I3003', 'Headphones'), ('I3004', 'Tablet'), ('I3005', 'Fitness Tracker'), ('I3006', 'Wireless Mouse'), ('I3007', 'Coffee Maker'), ('I3008', 'Yoga Mat'), ('I3009', 'Sunglasses'), ('I3010', 'Portable Charger'), ('I3045', 'Bluetooth Speaker')]\n"
     ]
    }
   ],
   "source": [
    "query=\"Select * from items\"\n",
    "cursor.execute(query)\n",
    "rows=cursor.fetchall()\n",
    "print(rows)"
   ]
  },
  {
   "cell_type": "markdown",
   "id": "cd773891",
   "metadata": {},
   "source": [
    "### Question 1 --> extract the total quantity of each item purchased by customers aged 18 to 35 years "
   ]
  },
  {
   "cell_type": "code",
   "execution_count": 32,
   "id": "deb8cb51",
   "metadata": {},
   "outputs": [],
   "source": [
    "# Execute the query\n",
    "query = \"\"\"\n",
    "SELECT c.customer_id, i.item_name, SUM(o.quantity) AS Total_Quantity\n",
    "FROM customer c\n",
    "INNER JOIN sales s ON c.customer_id = s.customer_id\n",
    "INNER JOIN orders o ON s.sales_id = o.sales_id\n",
    "INNER JOIN items i ON o.item_id = i.item_id\n",
    "WHERE c.age BETWEEN 18 AND 35\n",
    "GROUP BY c.customer_id, i.item_name;\n",
    "\"\"\"\n",
    "\n",
    "# Execute the query and fetch results\n",
    "cursor.execute(query)\n",
    "rows = cursor.fetchall()"
   ]
  },
  {
   "cell_type": "code",
   "execution_count": 33,
   "id": "41afe706",
   "metadata": {},
   "outputs": [],
   "source": [
    "# Print the results\n",
    "for row in rows:\n",
    "    print(f\"Customer ID: {row[0]}, Item Name: {row[1]}, Total Quantity: {row[2]}\")"
   ]
  },
  {
   "cell_type": "markdown",
   "id": "d8ebc25f",
   "metadata": {},
   "source": [
    "## Using Pandas "
   ]
  },
  {
   "cell_type": "code",
   "execution_count": 39,
   "id": "b0612d80",
   "metadata": {},
   "outputs": [
    {
     "name": "stdout",
     "output_type": "stream",
     "text": [
      "sales data from is ==>    sales_id customer_id\n",
      "0       101       C1001\n",
      "1       102       C1002\n",
      "2       103       C1003\n",
      "3       104       C1001\n",
      "4       105       C1005\n",
      "5       106       C1006\n",
      "6       107       C1007\n",
      "7       108       C1008\n",
      "8       150       C1050\n",
      " \n",
      "custmer data from is ==>    customer_id  age\n",
      "0        C1001   30\n",
      "1        C1002   25\n",
      "2        C1003   40\n",
      "3        C1004   22\n",
      "4        C1005   35\n",
      "5        C1006   28\n",
      "6        C1007   19\n",
      "7        C1008   40\n",
      "8        C1009   23\n",
      "9        C1010   31\n",
      "10       C1045   37\n",
      " \n",
      "orders data from is ==>   order_id  sales_id item_id  quantity\n",
      "0    O2001       101   I3001         3\n",
      "1    O2002       102   I3002         2\n",
      "2    O2003       103   I3003         1\n",
      "3    O2004       104   I3004         4\n",
      "4    O2005       105   I3005         2\n",
      "5    O2050       150   I3050         3\n",
      " \n",
      "item data from is ==>    item_id          item_name\n",
      "0    I3001             Laptop\n",
      "1    I3002         Smartphone\n",
      "2    I3003         Headphones\n",
      "3    I3004             Tablet\n",
      "4    I3005    Fitness Tracker\n",
      "5    I3006     Wireless Mouse\n",
      "6    I3007       Coffee Maker\n",
      "7    I3008           Yoga Mat\n",
      "8    I3009         Sunglasses\n",
      "9    I3010   Portable Charger\n",
      "10   I3045  Bluetooth Speaker\n",
      " \n"
     ]
    }
   ],
   "source": [
    "import pandas as pd\n",
    "\n",
    "file = r\"E:\\interview\\EastVantage\\assignment_20240215.xlsx\"\n",
    "\n",
    "df_sales = pd.read_excel(file, sheet_name='salesTable')\n",
    "print(f\"sales data from is ==> {df_sales}\")\n",
    "print(\" \")\n",
    "\n",
    "df_customer = pd.read_excel(file, sheet_name='customerTable')\n",
    "print(f\"custmer data from is ==> {df_customer}\")\n",
    "print(\" \")\n",
    "\n",
    "df_orders = pd.read_excel(file, sheet_name='ordersTable')\n",
    "print(f\"orders data from is ==> {df_orders}\")\n",
    "print(\" \")\n",
    "\n",
    "df_items = pd.read_excel(file, sheet_name='itemsTable')\n",
    "print(f\"item data from is ==> {df_items}\")\n",
    "print(\" \")\n"
   ]
  },
  {
   "cell_type": "code",
   "execution_count": 40,
   "id": "d9ac904b",
   "metadata": {},
   "outputs": [],
   "source": [
    "#joining the data frame (merge function)\n",
    "merged_data = pd.merge(df_customer, df_sales, on='customer_id')\n",
    "merged_data = pd.merge(merged_data, df_orders, on='sales_id')\n",
    "merged_data = pd.merge(merged_data, df_items, on='item_id')"
   ]
  },
  {
   "cell_type": "code",
   "execution_count": 41,
   "id": "9535764c",
   "metadata": {},
   "outputs": [],
   "source": [
    "#filter the customer by age \n",
    "filtered_data = merged_data[(merged_data['age'] >= 18) & (merged_data['age'] <= 35)]"
   ]
  },
  {
   "cell_type": "code",
   "execution_count": 42,
   "id": "62f8df00",
   "metadata": {},
   "outputs": [],
   "source": [
    "#calculating each quantoty sum grouping it by customer and item\n",
    "result = filtered_data.groupby(['customer_id', 'item_name'])['quantity'].sum()"
   ]
  },
  {
   "cell_type": "code",
   "execution_count": 43,
   "id": "91cda8e8",
   "metadata": {},
   "outputs": [
    {
     "name": "stdout",
     "output_type": "stream",
     "text": [
      "customer_id  item_name      \n",
      "C1001        Laptop             3\n",
      "             Tablet             4\n",
      "C1002        Smartphone         2\n",
      "C1005        Fitness Tracker    2\n",
      "Name: quantity, dtype: int64\n"
     ]
    }
   ],
   "source": [
    "print(result)"
   ]
  },
  {
   "cell_type": "code",
   "execution_count": null,
   "id": "b9b946a6",
   "metadata": {},
   "outputs": [],
   "source": []
  }
 ],
 "metadata": {
  "kernelspec": {
   "display_name": "Python 3 (ipykernel)",
   "language": "python",
   "name": "python3"
  },
  "language_info": {
   "codemirror_mode": {
    "name": "ipython",
    "version": 3
   },
   "file_extension": ".py",
   "mimetype": "text/x-python",
   "name": "python",
   "nbconvert_exporter": "python",
   "pygments_lexer": "ipython3",
   "version": "3.11.4"
  }
 },
 "nbformat": 4,
 "nbformat_minor": 5
}
